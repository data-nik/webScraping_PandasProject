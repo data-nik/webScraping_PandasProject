{
 "cells": [
  {
   "cell_type": "code",
   "execution_count": 16,
   "id": "a8feef4f",
   "metadata": {},
   "outputs": [],
   "source": [
    "from bs4 import BeautifulSoup\n",
    "import pandas as pd\n",
    "import requests\n",
    "import re"
   ]
  },
  {
   "cell_type": "code",
   "execution_count": 2,
   "id": "09dd9d7f",
   "metadata": {},
   "outputs": [],
   "source": [
    "url = 'http://analytictech.com/mb021/mlk.htm'\n",
    "\n",
    "page = requests.get(url)\n",
    "\n",
    "soup = BeautifulSoup(page.text, 'html')\n"
   ]
  },
  {
   "cell_type": "code",
   "execution_count": 3,
   "id": "8ac969f3",
   "metadata": {},
   "outputs": [
    {
     "name": "stdout",
     "output_type": "stream",
     "text": [
      "<!DOCTYPE HTML PUBLIC \"-//IETF//DTD HTML//EN\">\n",
      "<html>\n",
      "<head>\n",
      "<meta content=\"text/html; charset=utf-8\" http-equiv=\"Content-Type\"/>\n",
      "<meta content=\"Microsoft FrontPage 4.0\" name=\"GENERATOR\"/>\n",
      "<title>Martin Luther King Jr.'s 1962 Speech</title>\n",
      "</head>\n",
      "<body alink=\"#FF0000\" bgcolor=\"#FFFFFF\" link=\"#0000FF\" text=\"#000000\" vlink=\"#551A8B\">\n",
      "<h1><font size=\"5\">Transcript of speech by </font><br/>\r\n",
      "Dr. Martin Luther King Jr. <br/>\r\n",
      "August 28, 1963. Lincoln Memorial in Washington D.C. </h1>\n",
      "<hr color=\"#008080\" noshade=\"\" size=\"5\"/>\n",
      "<p>I am happy to join with you today in what will go down in\r\n",
      "history as the greatest demonstration for freedom in the history\r\n",
      "of our nation. </p>\n",
      "<p>Five score years ago a great American in whose symbolic shadow\r\n",
      "we stand today signed the Emancipation Proclamation. This\r\n",
      "momentous decree came as a great beckoning light of hope to\r\n",
      "millions of Negro slaves who had been seared in the flames of\r\n",
      "withering injustice. It came as a joyous daybreak to end the long\r\n",
      "night of their captivity. </p>\n",
      "<p>But one hundred years later the Negro is still not free. One\r\n",
      "hundred years later the life of the Negro is still sadly crippled\r\n",
      "by the manacles of segregation and the chains of discrimination. </p>\n",
      "<p>One hundred years later the Negro lives on a lonely island of\r\n",
      "poverty in the midst of a vast ocean of material prosperity. </p>\n",
      "<p>One hundred years later the Negro is still languishing in the\r\n",
      "comers of American society and finds himself in exile in his own\r\n",
      "land. </p>\n",
      "<p>We all have come to this hallowed spot to remind America of\r\n",
      "the fierce urgency of now. Now is the time to rise from the dark\r\n",
      "and desolate valley of segregation to the sunlit path of racial\r\n",
      "justice. Now is the time to change racial injustice to the solid\r\n",
      "rock of brotherhood. Now is the time to make justice ring out for\r\n",
      "all of God's children. </p>\n",
      "<p>There will be neither rest nor tranquility in America until\r\n",
      "the Negro is granted citizenship rights. </p>\n",
      "<p>We must forever conduct our struggle on the high plane of\r\n",
      "dignity and discipline. We must not allow our creative protest to\r\n",
      "degenerate into physical violence. Again and again we must rise\r\n",
      "to the majestic heights of meeting physical force with soul\r\n",
      "force. </p>\n",
      "<p>And the marvelous new militarism which has engulfed the Negro\r\n",
      "community must not lead us to a distrust of all white people, for\r\n",
      "many of our white brothers have evidenced by their presence here\r\n",
      "today that they have come to realize that their destiny is part\r\n",
      "of our destiny. </p>\n",
      "<p>So even though we face the difficulties of today and tomorrow\r\n",
      "I still have a dream. It is a dream deeply rooted in the American\r\n",
      "dream. </p>\n",
      "<p>I have a dream that one day this nation will rise up and live\r\n",
      "out the true meaning of its creed: 'We hold these truths to be\r\n",
      "self-evident; that all men are created equal.\" </p>\n",
      "<p>I have a dream that one day on the red hills of Georgia the\r\n",
      "sons of former slaves and the sons of former slave owners will be\r\n",
      "able to sit together at the table of brotherhood. </p>\n",
      "<p>I have a dream that one day even the state of Mississippi, a\r\n",
      "state sweltering with the heat of injustice, sweltering with the\r\n",
      "heat of oppression, will be transformed into an oasis of freedom\r\n",
      "and justice. </p>\n",
      "<p>I have a dream that little children will one day live in a\r\n",
      "nation where they will not be judged by the color of their skin\r\n",
      "but by the content of their character. </p>\n",
      "<p>I have a dream today. </p>\n",
      "<p>I have a dream that one day down in Alabama, with its vicious\r\n",
      "racists, with its Governor having his lips dripping with the\r\n",
      "words of interposition and nullification, one day right there in\r\n",
      "Alabama little black boys and black girls will be able to join\r\n",
      "hands with little white boys and white girls as sisters and\r\n",
      "brothers. </p>\n",
      "<p>I have a dream today. </p>\n",
      "<p>I have a dream that one day every valley shall be exalted,\r\n",
      "every hill and mountain shall be made low, the rough places\r\n",
      "plains, and the crooked places will be made straight, and before\r\n",
      "the Lord will be revealed, and all flesh shall see it together. </p>\n",
      "<p>This is our hope. This is the faith that I go back to the\r\n",
      "mount with. With this faith we will be able to hew out of the\r\n",
      "mountain of despair a stone of hope. With this faith we will be\r\n",
      "able to transform the genuine discords of our nation into a\r\n",
      "beautiful symphony of brotherhood. With this faith we will be\r\n",
      "able to work together, pray together; to struggle together, to go\r\n",
      "to jail together, to stand up for freedom forever, )mowing that\r\n",
      "we will be free one day. </p>\n",
      "<p>And I say to you today my friends, let freedom ring. From the\r\n",
      "prodigious hilltops of New Hampshire, let freedom ring. From the\r\n",
      "mighty mountains of New York, let freedom ring. From the mighty\r\n",
      "Alleghenies of Pennsylvania! </p>\n",
      "<p>Let freedom ring from the snow capped Rockies of Colorado! </p>\n",
      "<p>Let freedom ring from the curvaceous slopes of California! </p>\n",
      "<p>But not only there; let freedom ring from the Stone Mountain\r\n",
      "of Georgia! </p>\n",
      "<p>Let freedom ring from Lookout Mountain in Tennessee! </p>\n",
      "<p>Let freedom ring from every hill and molehill in Mississippi.\r\n",
      "From every mountainside, let freedom ring. </p>\n",
      "<p>And when this happens, when we allow freedom to ring, when we\r\n",
      "let it ring from every village and hamlet, from every state and\r\n",
      "every city, we will be able to speed up that day when all of\r\n",
      "God's children, black men and white men, Jews and Gentiles,\r\n",
      "Protestants and Catholics, will be able to join hands and sing in\r\n",
      "the words of the old Negro spiritual, \"Free at last! Free at\r\n",
      "last! Thank God almighty, we're free at last!\" </p>\n",
      "</body>\n",
      "</html>\n",
      "\n"
     ]
    }
   ],
   "source": [
    "print(soup)"
   ]
  },
  {
   "cell_type": "code",
   "execution_count": 5,
   "id": "d2685bab",
   "metadata": {},
   "outputs": [],
   "source": [
    "mlkj_speech = soup.find_all('p')"
   ]
  },
  {
   "cell_type": "code",
   "execution_count": 7,
   "id": "f6dea92f",
   "metadata": {},
   "outputs": [
    {
     "data": {
      "text/plain": [
       "bs4.element.ResultSet"
      ]
     },
     "execution_count": 7,
     "metadata": {},
     "output_type": "execute_result"
    }
   ],
   "source": [
    "type(mlkj_speech)"
   ]
  },
  {
   "cell_type": "code",
   "execution_count": 9,
   "id": "20e4d46f",
   "metadata": {},
   "outputs": [
    {
     "name": "stdout",
     "output_type": "stream",
     "text": [
      "['I am happy to join with you today in what will go down in\\r\\nhistory as the greatest demonstration for freedom in the history\\r\\nof our nation. ', 'Five score years ago a great American in whose symbolic shadow\\r\\nwe stand today signed the Emancipation Proclamation. This\\r\\nmomentous decree came as a great beckoning light of hope to\\r\\nmillions of Negro slaves who had been seared in the flames of\\r\\nwithering injustice. It came as a joyous daybreak to end the long\\r\\nnight of their captivity. ', 'But one hundred years later the Negro is still not free. One\\r\\nhundred years later the life of the Negro is still sadly crippled\\r\\nby the manacles of segregation and the chains of discrimination. ', 'One hundred years later the Negro lives on a lonely island of\\r\\npoverty in the midst of a vast ocean of material prosperity. ', 'One hundred years later the Negro is still languishing in the\\r\\ncomers of American society and finds himself in exile in his own\\r\\nland. ', \"We all have come to this hallowed spot to remind America of\\r\\nthe fierce urgency of now. Now is the time to rise from the dark\\r\\nand desolate valley of segregation to the sunlit path of racial\\r\\njustice. Now is the time to change racial injustice to the solid\\r\\nrock of brotherhood. Now is the time to make justice ring out for\\r\\nall of God's children. \", 'There will be neither rest nor tranquility in America until\\r\\nthe Negro is granted citizenship rights. ', 'We must forever conduct our struggle on the high plane of\\r\\ndignity and discipline. We must not allow our creative protest to\\r\\ndegenerate into physical violence. Again and again we must rise\\r\\nto the majestic heights of meeting physical force with soul\\r\\nforce. ', 'And the marvelous new militarism which has engulfed the Negro\\r\\ncommunity must not lead us to a distrust of all white people, for\\r\\nmany of our white brothers have evidenced by their presence here\\r\\ntoday that they have come to realize that their destiny is part\\r\\nof our destiny. ', 'So even though we face the difficulties of today and tomorrow\\r\\nI still have a dream. It is a dream deeply rooted in the American\\r\\ndream. ', 'I have a dream that one day this nation will rise up and live\\r\\nout the true meaning of its creed: \\'We hold these truths to be\\r\\nself-evident; that all men are created equal.\" ', 'I have a dream that one day on the red hills of Georgia the\\r\\nsons of former slaves and the sons of former slave owners will be\\r\\nable to sit together at the table of brotherhood. ', 'I have a dream that one day even the state of Mississippi, a\\r\\nstate sweltering with the heat of injustice, sweltering with the\\r\\nheat of oppression, will be transformed into an oasis of freedom\\r\\nand justice. ', 'I have a dream that little children will one day live in a\\r\\nnation where they will not be judged by the color of their skin\\r\\nbut by the content of their character. ', 'I have a dream today. ', 'I have a dream that one day down in Alabama, with its vicious\\r\\nracists, with its Governor having his lips dripping with the\\r\\nwords of interposition and nullification, one day right there in\\r\\nAlabama little black boys and black girls will be able to join\\r\\nhands with little white boys and white girls as sisters and\\r\\nbrothers. ', 'I have a dream today. ', 'I have a dream that one day every valley shall be exalted,\\r\\nevery hill and mountain shall be made low, the rough places\\r\\nplains, and the crooked places will be made straight, and before\\r\\nthe Lord will be revealed, and all flesh shall see it together. ', 'This is our hope. This is the faith that I go back to the\\r\\nmount with. With this faith we will be able to hew out of the\\r\\nmountain of despair a stone of hope. With this faith we will be\\r\\nable to transform the genuine discords of our nation into a\\r\\nbeautiful symphony of brotherhood. With this faith we will be\\r\\nable to work together, pray together; to struggle together, to go\\r\\nto jail together, to stand up for freedom forever, )mowing that\\r\\nwe will be free one day. ', 'And I say to you today my friends, let freedom ring. From the\\r\\nprodigious hilltops of New Hampshire, let freedom ring. From the\\r\\nmighty mountains of New York, let freedom ring. From the mighty\\r\\nAlleghenies of Pennsylvania! ', 'Let freedom ring from the snow capped Rockies of Colorado! ', 'Let freedom ring from the curvaceous slopes of California! ', 'But not only there; let freedom ring from the Stone Mountain\\r\\nof Georgia! ', 'Let freedom ring from Lookout Mountain in Tennessee! ', 'Let freedom ring from every hill and molehill in Mississippi.\\r\\nFrom every mountainside, let freedom ring. ', 'And when this happens, when we allow freedom to ring, when we\\r\\nlet it ring from every village and hamlet, from every state and\\r\\nevery city, we will be able to speed up that day when all of\\r\\nGod\\'s children, black men and white men, Jews and Gentiles,\\r\\nProtestants and Catholics, will be able to join hands and sing in\\r\\nthe words of the old Negro spiritual, \"Free at last! Free at\\r\\nlast! Thank God almighty, we\\'re free at last!\" ']\n"
     ]
    }
   ],
   "source": [
    "speech_combined = [p.text for p in mlkj_speech]\n",
    "\n",
    "print(speech_combined)"
   ]
  },
  {
   "cell_type": "code",
   "execution_count": 10,
   "id": "88fac93a",
   "metadata": {},
   "outputs": [
    {
     "data": {
      "text/plain": [
       "list"
      ]
     },
     "execution_count": 10,
     "metadata": {},
     "output_type": "execute_result"
    }
   ],
   "source": [
    "type(speech_combined)"
   ]
  },
  {
   "cell_type": "code",
   "execution_count": 12,
   "id": "2c32e3b0",
   "metadata": {},
   "outputs": [],
   "source": [
    "string_speech = ' '.join(speech_combined)"
   ]
  },
  {
   "cell_type": "code",
   "execution_count": 21,
   "id": "04a8c5d7",
   "metadata": {},
   "outputs": [],
   "source": [
    "string_speech_cleaned = string_speech.replace('\\r\\n', ' ')"
   ]
  },
  {
   "cell_type": "code",
   "execution_count": 24,
   "id": "fd43c078",
   "metadata": {},
   "outputs": [],
   "source": [
    "speech_no_punt = re.sub(r'[^\\w\\s]', '',string_speech_cleaned)"
   ]
  },
  {
   "cell_type": "code",
   "execution_count": 26,
   "id": "4f5c3f9d",
   "metadata": {},
   "outputs": [
    {
     "name": "stdout",
     "output_type": "stream",
     "text": [
      "I am happy to join with you today in what will go down in history as the greatest demonstration for freedom in the history of our nation  Five score years ago a great American in whose symbolic shadow we stand today signed the Emancipation Proclamation This momentous decree came as a great beckoning light of hope to millions of Negro slaves who had been seared in the flames of withering injustice It came as a joyous daybreak to end the long night of their captivity  But one hundred years later the Negro is still not free One hundred years later the life of the Negro is still sadly crippled by the manacles of segregation and the chains of discrimination  One hundred years later the Negro lives on a lonely island of poverty in the midst of a vast ocean of material prosperity  One hundred years later the Negro is still languishing in the comers of American society and finds himself in exile in his own land  We all have come to this hallowed spot to remind America of the fierce urgency of now Now is the time to rise from the dark and desolate valley of segregation to the sunlit path of racial justice Now is the time to change racial injustice to the solid rock of brotherhood Now is the time to make justice ring out for all of Gods children  There will be neither rest nor tranquility in America until the Negro is granted citizenship rights  We must forever conduct our struggle on the high plane of dignity and discipline We must not allow our creative protest to degenerate into physical violence Again and again we must rise to the majestic heights of meeting physical force with soul force  And the marvelous new militarism which has engulfed the Negro community must not lead us to a distrust of all white people for many of our white brothers have evidenced by their presence here today that they have come to realize that their destiny is part of our destiny  So even though we face the difficulties of today and tomorrow I still have a dream It is a dream deeply rooted in the American dream  I have a dream that one day this nation will rise up and live out the true meaning of its creed We hold these truths to be selfevident that all men are created equal  I have a dream that one day on the red hills of Georgia the sons of former slaves and the sons of former slave owners will be able to sit together at the table of brotherhood  I have a dream that one day even the state of Mississippi a state sweltering with the heat of injustice sweltering with the heat of oppression will be transformed into an oasis of freedom and justice  I have a dream that little children will one day live in a nation where they will not be judged by the color of their skin but by the content of their character  I have a dream today  I have a dream that one day down in Alabama with its vicious racists with its Governor having his lips dripping with the words of interposition and nullification one day right there in Alabama little black boys and black girls will be able to join hands with little white boys and white girls as sisters and brothers  I have a dream today  I have a dream that one day every valley shall be exalted every hill and mountain shall be made low the rough places plains and the crooked places will be made straight and before the Lord will be revealed and all flesh shall see it together  This is our hope This is the faith that I go back to the mount with With this faith we will be able to hew out of the mountain of despair a stone of hope With this faith we will be able to transform the genuine discords of our nation into a beautiful symphony of brotherhood With this faith we will be able to work together pray together to struggle together to go to jail together to stand up for freedom forever mowing that we will be free one day  And I say to you today my friends let freedom ring From the prodigious hilltops of New Hampshire let freedom ring From the mighty mountains of New York let freedom ring From the mighty Alleghenies of Pennsylvania  Let freedom ring from the snow capped Rockies of Colorado  Let freedom ring from the curvaceous slopes of California  But not only there let freedom ring from the Stone Mountain of Georgia  Let freedom ring from Lookout Mountain in Tennessee  Let freedom ring from every hill and molehill in Mississippi From every mountainside let freedom ring  And when this happens when we allow freedom to ring when we let it ring from every village and hamlet from every state and every city we will be able to speed up that day when all of Gods children black men and white men Jews and Gentiles Protestants and Catholics will be able to join hands and sing in the words of the old Negro spiritual Free at last Free at last Thank God almighty were free at last \n"
     ]
    }
   ],
   "source": [
    "print(speech_no_punt)"
   ]
  },
  {
   "cell_type": "code",
   "execution_count": 27,
   "id": "38f4bbbc",
   "metadata": {},
   "outputs": [],
   "source": [
    "speech_lower = speech_no_punt.lower()"
   ]
  },
  {
   "cell_type": "code",
   "execution_count": 29,
   "id": "0f25992d",
   "metadata": {},
   "outputs": [],
   "source": [
    "speech_broken_out = re.split(r'\\s+',speech_lower)"
   ]
  },
  {
   "cell_type": "code",
   "execution_count": 32,
   "id": "2c416a6c",
   "metadata": {},
   "outputs": [
    {
     "data": {
      "text/plain": [
       "the        54\n",
       "of         49\n",
       "to         29\n",
       "and        27\n",
       "a          20\n",
       "           ..\n",
       "jews        1\n",
       "joyous      1\n",
       "judged      1\n",
       "land        1\n",
       "lookout     1\n",
       "Name: count, Length: 323, dtype: int64"
      ]
     },
     "execution_count": 32,
     "metadata": {},
     "output_type": "execute_result"
    }
   ],
   "source": [
    "df = pd.DataFrame(speech_broken_out).value_counts()\n",
    "df"
   ]
  },
  {
   "cell_type": "code",
   "execution_count": 37,
   "id": "6c754b13",
   "metadata": {},
   "outputs": [],
   "source": [
    "df.to_csv(r'C:\\Users\\Owner\\Desktop\\Fake_Files\\mlkj_speech_counts.csv', header = ['Counts'], index_label = ['Words'])"
   ]
  },
  {
   "cell_type": "code",
   "execution_count": null,
   "id": "85543bcf",
   "metadata": {},
   "outputs": [],
   "source": []
  },
  {
   "cell_type": "code",
   "execution_count": null,
   "id": "50a03b4c",
   "metadata": {},
   "outputs": [],
   "source": []
  },
  {
   "cell_type": "code",
   "execution_count": null,
   "id": "553e211e",
   "metadata": {},
   "outputs": [],
   "source": []
  },
  {
   "cell_type": "code",
   "execution_count": null,
   "id": "f796371c",
   "metadata": {},
   "outputs": [],
   "source": []
  },
  {
   "cell_type": "code",
   "execution_count": null,
   "id": "00b985ce",
   "metadata": {},
   "outputs": [],
   "source": []
  },
  {
   "cell_type": "code",
   "execution_count": null,
   "id": "8b9806f7",
   "metadata": {},
   "outputs": [],
   "source": []
  },
  {
   "cell_type": "code",
   "execution_count": null,
   "id": "33b8f82e",
   "metadata": {},
   "outputs": [],
   "source": []
  },
  {
   "cell_type": "code",
   "execution_count": null,
   "id": "a8fbbf2c",
   "metadata": {},
   "outputs": [],
   "source": []
  },
  {
   "cell_type": "code",
   "execution_count": null,
   "id": "9c41cf49",
   "metadata": {},
   "outputs": [],
   "source": []
  },
  {
   "cell_type": "code",
   "execution_count": null,
   "id": "bdf37fd2",
   "metadata": {},
   "outputs": [],
   "source": []
  },
  {
   "cell_type": "code",
   "execution_count": null,
   "id": "90496fa4",
   "metadata": {},
   "outputs": [],
   "source": []
  },
  {
   "cell_type": "code",
   "execution_count": null,
   "id": "383c8e52",
   "metadata": {},
   "outputs": [],
   "source": []
  },
  {
   "cell_type": "code",
   "execution_count": null,
   "id": "309b70b7",
   "metadata": {},
   "outputs": [],
   "source": []
  },
  {
   "cell_type": "code",
   "execution_count": null,
   "id": "e6c2e130",
   "metadata": {},
   "outputs": [],
   "source": []
  },
  {
   "cell_type": "code",
   "execution_count": null,
   "id": "ed13c121",
   "metadata": {},
   "outputs": [],
   "source": []
  },
  {
   "cell_type": "code",
   "execution_count": null,
   "id": "721875ea",
   "metadata": {},
   "outputs": [],
   "source": []
  },
  {
   "cell_type": "code",
   "execution_count": null,
   "id": "6d36cbd1",
   "metadata": {},
   "outputs": [],
   "source": []
  },
  {
   "cell_type": "code",
   "execution_count": null,
   "id": "9b5ea131",
   "metadata": {},
   "outputs": [],
   "source": []
  },
  {
   "cell_type": "code",
   "execution_count": null,
   "id": "1015f54d",
   "metadata": {},
   "outputs": [],
   "source": []
  },
  {
   "cell_type": "code",
   "execution_count": null,
   "id": "bdd495ab",
   "metadata": {},
   "outputs": [],
   "source": []
  },
  {
   "cell_type": "code",
   "execution_count": null,
   "id": "b3ecb992",
   "metadata": {},
   "outputs": [],
   "source": []
  },
  {
   "cell_type": "code",
   "execution_count": null,
   "id": "c7c061cc",
   "metadata": {},
   "outputs": [],
   "source": []
  },
  {
   "cell_type": "code",
   "execution_count": null,
   "id": "4db359a5",
   "metadata": {},
   "outputs": [],
   "source": []
  },
  {
   "cell_type": "code",
   "execution_count": null,
   "id": "583fceda",
   "metadata": {},
   "outputs": [],
   "source": []
  },
  {
   "cell_type": "code",
   "execution_count": null,
   "id": "7f0ad5f2",
   "metadata": {},
   "outputs": [],
   "source": []
  },
  {
   "cell_type": "code",
   "execution_count": null,
   "id": "18e900ac",
   "metadata": {},
   "outputs": [],
   "source": []
  }
 ],
 "metadata": {
  "kernelspec": {
   "display_name": "Python 3 (ipykernel)",
   "language": "python",
   "name": "python3"
  },
  "language_info": {
   "codemirror_mode": {
    "name": "ipython",
    "version": 3
   },
   "file_extension": ".py",
   "mimetype": "text/x-python",
   "name": "python",
   "nbconvert_exporter": "python",
   "pygments_lexer": "ipython3",
   "version": "3.11.5"
  }
 },
 "nbformat": 4,
 "nbformat_minor": 5
}
