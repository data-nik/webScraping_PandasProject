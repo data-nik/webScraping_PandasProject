{
 "cells": [
  {
   "cell_type": "markdown",
   "id": "2557cf70",
   "metadata": {},
   "source": [
    "# Automated Crypto Web Scraper "
   ]
  },
  {
   "cell_type": "code",
   "execution_count": 16,
   "id": "39d37845",
   "metadata": {},
   "outputs": [],
   "source": [
    "import pandas as pd\n",
    "from bs4 import BeautifulSoup\n",
    "import requests\n",
    "from datetime import datetime\n",
    "import os\n",
    "import time"
   ]
  },
  {
   "cell_type": "code",
   "execution_count": 23,
   "id": "75b5891f",
   "metadata": {},
   "outputs": [],
   "source": [
    "def automated_crypto_pull():\n",
    "\n",
    "    url = 'https://coinmarketcap.com/currencies/bitcoin/'\n",
    "\n",
    "    page = requests.get(url)\n",
    "\n",
    "    soup = BeautifulSoup(page.text, 'html')\n",
    "\n",
    "    crypto_name = soup.find('span', class_ = 'sc-f70bb44c-0 jltoa').text\n",
    "    final_name = crypto_name.replace(' price\\xa0', '')\n",
    "\n",
    "    crypto_price = soup.find('span', class_ = 'sc-f70bb44c-0 jxpCgO base-text').text\n",
    "    final_price = crypto_price.replace('$', '')\n",
    "\n",
    "    date_time = datetime.now()\n",
    "\n",
    "    dict = {'Crypto Name': final_name,\n",
    "            'Price': final_price,\n",
    "            'TimeStamp': date_time}\n",
    "\n",
    "    df = pd.DataFrame([dict])\n",
    "\n",
    "    if os.path.exists(r'C:\\Users\\Owner\\Desktop\\Crypto Web Puller\\Crypto_Automated_Pull.csv'):\n",
    "        df.to_csv(r'C:\\Users\\Owner\\Desktop\\Crypto Web Puller\\Crypto_Automated_Pull.csv', mode = 'a', header = False, index = False)\n",
    "    else:\n",
    "        df.to_csv(r'C:\\Users\\Owner\\Desktop\\Crypto Web Puller\\Crypto_Automated_Pull.csv', index = False)\n",
    "    print(df)"
   ]
  },
  {
   "cell_type": "code",
   "execution_count": null,
   "id": "79b6975d",
   "metadata": {},
   "outputs": [],
   "source": [
    "while True:\n",
    "    automated_crypto_pull()\n",
    "    time.sleep(180)"
   ]
  },
  {
   "cell_type": "code",
   "execution_count": null,
   "id": "dbcbf77d",
   "metadata": {},
   "outputs": [],
   "source": []
  },
  {
   "cell_type": "code",
   "execution_count": null,
   "id": "1e19f8c7",
   "metadata": {},
   "outputs": [],
   "source": []
  },
  {
   "cell_type": "code",
   "execution_count": null,
   "id": "57c456ab",
   "metadata": {},
   "outputs": [],
   "source": []
  },
  {
   "cell_type": "code",
   "execution_count": null,
   "id": "99ff6cdc",
   "metadata": {},
   "outputs": [],
   "source": []
  },
  {
   "cell_type": "code",
   "execution_count": null,
   "id": "dc508c73",
   "metadata": {},
   "outputs": [],
   "source": []
  },
  {
   "cell_type": "code",
   "execution_count": null,
   "id": "e502714c",
   "metadata": {},
   "outputs": [],
   "source": []
  },
  {
   "cell_type": "code",
   "execution_count": null,
   "id": "0158ee6d",
   "metadata": {},
   "outputs": [],
   "source": []
  },
  {
   "cell_type": "code",
   "execution_count": null,
   "id": "067745f9",
   "metadata": {},
   "outputs": [],
   "source": []
  },
  {
   "cell_type": "code",
   "execution_count": null,
   "id": "2af7dc56",
   "metadata": {},
   "outputs": [],
   "source": []
  },
  {
   "cell_type": "code",
   "execution_count": null,
   "id": "80df98e8",
   "metadata": {},
   "outputs": [],
   "source": []
  },
  {
   "cell_type": "code",
   "execution_count": null,
   "id": "bf5a6379",
   "metadata": {},
   "outputs": [],
   "source": []
  }
 ],
 "metadata": {
  "kernelspec": {
   "display_name": "Python 3 (ipykernel)",
   "language": "python",
   "name": "python3"
  },
  "language_info": {
   "codemirror_mode": {
    "name": "ipython",
    "version": 3
   },
   "file_extension": ".py",
   "mimetype": "text/x-python",
   "name": "python",
   "nbconvert_exporter": "python",
   "pygments_lexer": "ipython3",
   "version": "3.11.5"
  }
 },
 "nbformat": 4,
 "nbformat_minor": 5
}
